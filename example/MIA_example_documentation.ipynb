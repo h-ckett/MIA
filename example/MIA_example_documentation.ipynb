{
 "cells": [
  {
   "cell_type": "markdown",
   "metadata": {},
   "source": [
    "# Introduction\n",
    "\n",
    "MIA (Mouse Image Analyzer) is an application designed to take in a video of a mouse and spit out data about time it spends in certain marked areas of the video known as *key cells*. This notebook will discuss the basic concepts behind how MIA works as well as a watered-down walk through an example using a custom 25-frame drawing.\n",
    "\n",
    "### Logic\n",
    "\n",
    "The logic is as follows:\n",
    "1. Take in a video and an FPS in as input\n",
    "2. Split the video into individual frames\n",
    "3. Draw a grid over each frame\n",
    "4. Identify *key cells* which will be the area we want to focus on observing\n",
    "5. Block all non-*key cells* out and output these new frames\n",
    "6. Observe *pixel values* in those cells and detect changes\n",
    "7. Count each frame with a significant *pixel value* (indicates mouse presence)\n",
    "8. Tally these frames and convert the data into time (seconds)\n",
    "9. Output data\n",
    "10. Goal achieved\n",
    "\n",
    "### Output\n",
    "\n",
    "This program notebook will output:\n",
    "* A CSV file listing the raw number of frames observed, the number of significant appearances tallied, and and a tally of time data (in seconds)\n",
    "\n",
    "The CSV should list this information frame by frame, as shown in this example:\n",
    "\n",
    "[![observation-example.png](https://i.postimg.cc/L5Fg0Y8X/observation-example.png)](https://postimg.cc/0MZNzNmR)\n",
    "\n",
    "# Features\n",
    "\n",
    "### This notebook\n",
    "\n",
    "This notebook can:\n",
    "* Take in individual frames and FPS as input\n",
    "* Trim frames to show the *key cell* in the center (only cell 5)\n",
    "* Output aforementioned CSV file\n",
    "\n",
    "### Current MIA\n",
    "\n",
    "The current, complete version of MIA can:\n",
    "* Do nothing as it hasn't been made yet\n",
    "\n",
    "### Future MIA\n",
    "\n",
    "Planned features for the complete version of MIA:\n",
    "* Take in a video file and FPS as input\n",
    "* Split video files into individual frames\n",
    "* Draw gridlines over frames\n",
    "* Output modified individual frames (3x3 gridlines)\n",
    "* Let the user select which of the 9 cells are *key cells*\n",
    "* Output the modified individual frames (show only *key cells*)\n",
    "* Include a command-line interface for inputting values and running program\n",
    "* Include a Graphical User Interface for selecting a video file, inputting FPS, &c.\n",
    "* Allow users to enter a custom grid size (larger grids are more accurate as cells are smaller)\n",
    "* Display a preview of the modified frames (gridlines)\n",
    "* Allow users to click on cells in the preview to mark *key cells*\n",
    "* Use threshold values to better separate the mouse from the background\n",
    "* Allow users to input custom threshold values with a live preview that also outputs how many pixels the currently recognized subject is\n",
    "* Allow users to input precise vertical and horizontal shift for the gridlines (and trimming)\n",
    "* Support odd *key cell* placements (non-touching cells)\n",
    "* Include a subscript that measures your mouse using a single frame where the entirety of the mouse is in one cell, allows you to change the threshold and see a live preview of how it measures your mouse, outputs in real time the recognized size, and from there allows you to determine a custom majority (default is 51% of subject size)\n",
    "\n",
    "\n",
    "You can find MIA <a href=\"https://github.com/h-ckett/MIA\">on GitHub here</a>."
   ]
  },
  {
   "cell_type": "markdown",
   "metadata": {},
   "source": [
    "# Example"
   ]
  },
  {
   "cell_type": "markdown",
   "metadata": {},
   "source": [
    "### Imports and Global vars"
   ]
  },
  {
   "cell_type": "code",
   "execution_count": 32,
   "metadata": {},
   "outputs": [],
   "source": [
    "import numpy as np\n",
    "import matplotlib.pyplot as plt\n",
    "%matplotlib inline\n",
    "from skimage import io, data\n",
    "from skimage.io import imread\n",
    "import matplotlib.cm as cm\n",
    "import csv\n",
    "\n",
    "FPS = 5                             # This will be the FPS we work with for this example"
   ]
  },
  {
   "cell_type": "markdown",
   "metadata": {},
   "source": [
    "### Load up and plot an example frame"
   ]
  },
  {
   "cell_type": "markdown",
   "metadata": {},
   "source": [
    "In this example we have a single *key cell*, which is the center cell. We are tracking a three-pixel long organism which appears pure black in contrast to the white background. The 25-frame set of images we'll be using throughout the rest of the example is available <a href=\"https://github.com/h-ckett/MIA/tree/master/example\">here</a>."
   ]
  },
  {
   "cell_type": "code",
   "execution_count": 33,
   "metadata": {},
   "outputs": [
    {
     "data": {
      "image/png": "[encoded data removed]",
      "text/plain": [
       "<Figure size 432x288 with 1 Axes>"
      ]
     },
     "metadata": {
      "needs_background": "light"
     },
     "output_type": "display_data"
    },
    {
     "data": {
      "image/png": "[encoded data removed]",
      "text/plain": [
       "<Figure size 432x288 with 1 Axes>"
      ]
     },
     "metadata": {
      "needs_background": "light"
     },
     "output_type": "display_data"
    }
   ],
   "source": [
    "# Create a variable for our frame, which already has its gridlines and non-key cell(s) masked\n",
    "frame_gridlined = \"frame1.png\"\n",
    "\n",
    "# Read it in as grayscale\n",
    "untrimmed = imread(frame_gridlined, as_gray = True)\n",
    "\n",
    "# Plot it once\n",
    "plt.imshow(untrimmed, cmap = cm.gray)\n",
    "plt.show()\n",
    "\n",
    "# Trim to only show the key cell(s)\n",
    "trimmed = untrimmed[43:86, 43:86]\n",
    "\n",
    "# Plot the trimmed image\n",
    "plt.imshow(trimmed, cmap = cm.gray)\n",
    "plt.show()"
   ]
  },
  {
   "cell_type": "markdown",
   "metadata": {},
   "source": [
    "When tallying frames that contain our subject, we want to ensure that the majority of the subject is in the *key cell* before counting it. After all, if just the tip of your mouse's tail is in the *key cell*, does it really count? When applying this to mice, we can grab a frame that wholly contains the mouse, measure its size (in px), and take about half that amount as our *majority* variable to be safe. Whenever that much of the mouse is within a *key cell*, that frame will be tallied.\n",
    "\n",
    "Since our \"subject\" in this example is three pixels in size, we want to make sure that at least two pixels of it are visible in the *key cell* before applying that frame to our tally. Thus, our *majority* == 2."
   ]
  },
  {
   "cell_type": "markdown",
   "metadata": {},
   "source": [
    "### Check the frame for the subject\n",
    "#### Visualing what the program is doing"
   ]
  },
  {
   "cell_type": "markdown",
   "metadata": {},
   "source": [
    "Moving forward in our example, we'll now take the *trimmed* image we plotted above and check to see if our subject is inside the *key cell(s)* or not."
   ]
  },
  {
   "cell_type": "code",
   "execution_count": 34,
   "metadata": {},
   "outputs": [
    {
     "data": {
      "image/png": "[encoded data removed]",
      "text/plain": [
       "<Figure size 432x288 with 1 Axes>"
      ]
     },
     "metadata": {
      "needs_background": "light"
     },
     "output_type": "display_data"
    }
   ],
   "source": [
    "# Histogram of the trimmed image's pixel quantities\n",
    "plt.hist(trimmed.flat, bins = 'auto')\n",
    "plt.xlabel(\"Pixel Values\")\n",
    "plt.ylabel(\"Quantity\")\n",
    "plt.show()"
   ]
  },
  {
   "cell_type": "markdown",
   "metadata": {},
   "source": [
    "We can tell from the histogram that there are quite a few white pixels in our image -- that's what the large bar on the right represents. But what you may not have noticed is the very short bar on the left; that's our subject appearing, all three pixels of it. Let's zoom in to get a better look."
   ]
  },
  {
   "cell_type": "code",
   "execution_count": 35,
   "metadata": {},
   "outputs": [
    {
     "data": {
      "image/png": "[encoded data removed]",
      "text/plain": [
       "<Figure size 432x288 with 1 Axes>"
      ]
     },
     "metadata": {
      "needs_background": "light"
     },
     "output_type": "display_data"
    }
   ],
   "source": [
    "# Histogram of the trimmed image's pixel quantities, focusing on a very low quantity to illustrate our three-pixel subject\n",
    "plt.hist(trimmed.flat, bins = 'auto')\n",
    "plt.xlabel(\"Pixel Values\")\n",
    "plt.ylabel(\"Quantity\")\n",
    "plt.ylim([0, 9])     # This line is where we limit the y-axis\n",
    "plt.show()"
   ]
  },
  {
   "cell_type": "markdown",
   "metadata": {},
   "source": [
    "Now that we've tweaked our histogram a bit, it's very clear to see the presence of our subject. Remember, we only want to tally a frame if we see the desired *majority* of our subject. For the purposes of our example, our *majority* is two; seeing as there's three pixels showing here, we can count this frame and add it to our tally with confidence.\n",
    "\n",
    "#### Code\n",
    "\n",
    "So, how is the program going to tackle this? Well, just like we did, it's going to need to check for the presence of pixels that represent our subject. It'll load each frame one by one and, as it loads them, check through every pixel and count how many meet a certain threshold. For this example there's only two colors, so our threshold is easily determined: for an image of a mouse, however, we'll have to play around with the threshold until we get the result we want. After this tally (called *localCount* in the script below), we can check if it meets our *majority*. If it does, we add it to an overall tally (called *tally* in the script below) and begin to populate our CSV."
   ]
  },
  {
   "cell_type": "code",
   "execution_count": 36,
   "metadata": {},
   "outputs": [],
   "source": [
    "# Loop to tally total number of major appearances of subject\n",
    "majority = 2         # We're looking for 2 pixels or greater\n",
    "frameCount = 25      # We have 25 frames to look through\n",
    "fileNames = []       # Set up our file names list\n",
    "fileNames.append('') # Initialize\n",
    "tally = []           # Set up our tally score\n",
    "tally.append(0)      # Initialize\n",
    "totalTime = []       # Set up our time counter var\n",
    "totalTime.append(0)  # Initialize\n",
    "\n",
    "for i in range(frameCount):\n",
    "    # Import frames\n",
    "    frame_gridlined = \"frame%s.png\" %str(i + 1)                    # Image name changes per iteration; folder location varies\n",
    "    untrimmed = imread(frame_gridlined, as_gray = True)            # Load it in grayscale, as we did when making our plots\n",
    "    trimmed = untrimmed[43:86, 43:86]                              # Trim it to only show key cell(s)\n",
    "    \n",
    "    localCount = trimmed < 0.1                                     # Make a local counter that sees if each pixel is black\n",
    "    localCount = np.sum(localCount)                                # Take the sum of those results\n",
    "    \n",
    "    # We now have the data on how many px of our subject is in a particular frame (localCount)\n",
    "    if(localCount >= majority):                                    # If the majority of the subject is in the frame...\n",
    "        tally.append(tally[i] + 1)                                 # ... we add to our tally\n",
    "    else:                                                          # If there wasn't significant presence...\n",
    "        tally.append(tally[i])                                     # ... our tally stays the same\n",
    "    totalTime.append(totalTime[i] + (1 / FPS))                     # Add to our time regardless of result\n",
    "    fileNames.append(frame_gridlined)                              # Record the filename"
   ]
  },
  {
   "cell_type": "markdown",
   "metadata": {},
   "source": [
    "Let's take a peek at what we've just created by printing some information:"
   ]
  },
  {
   "cell_type": "code",
   "execution_count": 37,
   "metadata": {},
   "outputs": [
    {
     "name": "stdout",
     "output_type": "stream",
     "text": [
      "[0, 1, 2, 3, 4, 5, 6, 7, 7, 7, 7, 7, 7, 7, 8, 9, 10, 11, 12, 13, 14, 14, 14, 14, 14, 14]\n",
      "14\n",
      "[0.0, 0.2, 0.4, 0.6, 0.8, 1.0, 1.2, 1.4, 1.6, 1.8, 2.0, 2.2, 2.4, 2.6, 2.8, 3.0, 3.2, 3.4, 3.6, 3.8, 4.0, 4.2, 4.4, 4.6, 4.8, 5.0]\n",
      "5.000000000000002\n"
     ]
    }
   ],
   "source": [
    "print(tally)\n",
    "print(tally[len(tally) - 1])\n",
    "\n",
    "print([float(\"%.2f\" % x) for x in totalTime])\n",
    "print(totalTime[len(totalTime) - 1])"
   ]
  },
  {
   "cell_type": "markdown",
   "metadata": {},
   "source": [
    "*Note: since tally and totalTime are tallies we simply print the value at the last index to find the sum.*\n",
    "\n",
    "Now we can clearly see where frames are in which the subject had a significant presence (met our *majority* case) and where it did not. We can also see the steady lapse of time (each frame lasting 0.2 seconds). Once we plot this it'll be even easier to visualize."
   ]
  },
  {
   "cell_type": "code",
   "execution_count": 38,
   "metadata": {},
   "outputs": [
    {
     "data": {
      "image/png": "[encoded data removed]",
      "text/plain": [
       "<Figure size 432x288 with 1 Axes>"
      ]
     },
     "metadata": {
      "needs_background": "light"
     },
     "output_type": "display_data"
    },
    {
     "data": {
      "image/png": "[encoded data removed]",
      "text/plain": [
       "<Figure size 432x288 with 1 Axes>"
      ]
     },
     "metadata": {
      "needs_background": "light"
     },
     "output_type": "display_data"
    }
   ],
   "source": [
    "plt.scatter(totalTime, tally)\n",
    "plt.xlabel(\"Time (secs)\")\n",
    "plt.ylabel(\"Significant Appearances\")\n",
    "plt.show()\n",
    "\n",
    "frames = []\n",
    "for i in range(26):\n",
    "    frames.append(i + 1)\n",
    "    \n",
    "plt.scatter(frames, tally)\n",
    "plt.xlabel(\"Frame\")\n",
    "plt.ylabel(\"Significant Appearances\")\n",
    "plt.show()"
   ]
  },
  {
   "cell_type": "markdown",
   "metadata": {},
   "source": [
    "### Exporting the CSV\n",
    "\n",
    "Our CSV file is going to use a comma (,) as the delimiter, and quotes (\") as the quotechar. Let's take a look under the hood at how it will be populated:"
   ]
  },
  {
   "cell_type": "code",
   "execution_count": 39,
   "metadata": {},
   "outputs": [
    {
     "name": "stdout",
     "output_type": "stream",
     "text": [
      "['', 'frame1.png', 'frame2.png', 'frame3.png', 'frame4.png', 'frame5.png', 'frame6.png', 'frame7.png', 'frame8.png', 'frame9.png', 'frame10.png', 'frame11.png', 'frame12.png', 'frame13.png', 'frame14.png', 'frame15.png', 'frame16.png', 'frame17.png', 'frame18.png', 'frame19.png', 'frame20.png', 'frame21.png', 'frame22.png', 'frame23.png', 'frame24.png', 'frame25.png']\n",
      "[0, 1, 2, 3, 4, 5, 6, 7, 7, 7, 7, 7, 7, 7, 8, 9, 10, 11, 12, 13, 14, 14, 14, 14, 14, 14]\n",
      "[0.0, 0.2, 0.4, 0.6, 0.8, 1.0, 1.2, 1.4, 1.6, 1.8, 2.0, 2.2, 2.4, 2.6, 2.8, 3.0, 3.2, 3.4, 3.6, 3.8, 4.0, 4.2, 4.4, 4.6, 4.8, 5.0]\n"
     ]
    }
   ],
   "source": [
    "print(fileNames)\n",
    "print(tally)\n",
    "print([float(\"%.2f\" % x) for x in totalTime])"
   ]
  },
  {
   "cell_type": "markdown",
   "metadata": {},
   "source": [
    "#### Code"
   ]
  },
  {
   "cell_type": "code",
   "execution_count": 40,
   "metadata": {},
   "outputs": [],
   "source": [
    "# Open up mia_output.csv (will be created if it doesn't exist):\n",
    "with open('mia_output.csv', mode='w') as mia_output:\n",
    "    # Define how we want it to operate:\n",
    "    mia_output = csv.writer(mia_output, delimiter=',', quotechar='\"', quoting=csv.QUOTE_MINIMAL)\n",
    "    # Make the column titles:\n",
    "    mia_output.writerow(['filename', 'frame #', 'sig. app. tally', 'time(s)'])\n",
    "    \n",
    "    # Now let's populate the CSV with our data\n",
    "    for i in range(frameCount):\n",
    "        mia_output.writerow([fileNames[i], i, tally[i], totalTime[i]])"
   ]
  },
  {
   "cell_type": "markdown",
   "metadata": {},
   "source": [
    "And just like that, we're all done with our example code; there is a CSV file waiting for us to load into another application which we can use to interpret the data. To view the full MIA project online, including this example documentation, the full application, and more, please <a href=\"https://github.com/h-ckett/MIA\">visit my GitHub page</a>."
   ]
  }
 ],
 "metadata": {
  "kernelspec": {
   "display_name": "Python 3",
   "language": "python",
   "name": "python3"
  },
  "language_info": {
   "codemirror_mode": {
    "name": "ipython",
    "version": 3
   },
   "file_extension": ".py",
   "mimetype": "text/x-python",
   "name": "python",
   "nbconvert_exporter": "python",
   "pygments_lexer": "ipython3",
   "version": "3.7.3"
  }
 },
 "nbformat": 4,
 "nbformat_minor": 2
}
